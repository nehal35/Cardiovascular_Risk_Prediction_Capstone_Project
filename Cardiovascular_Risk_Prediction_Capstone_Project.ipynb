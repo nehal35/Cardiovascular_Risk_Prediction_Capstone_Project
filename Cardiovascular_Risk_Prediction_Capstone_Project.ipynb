{
  "nbformat": 4,
  "nbformat_minor": 0,
  "metadata": {
    "colab": {
      "provenance": [],
      "authorship_tag": "ABX9TyNphgkUnPt/JPHG5yUD4i2I",
      "include_colab_link": true
    },
    "kernelspec": {
      "name": "python3",
      "display_name": "Python 3"
    },
    "language_info": {
      "name": "python"
    }
  },
  "cells": [
    {
      "cell_type": "markdown",
      "metadata": {
        "id": "view-in-github",
        "colab_type": "text"
      },
      "source": [
        "<a href=\"https://colab.research.google.com/github/nehal35/Cardiovascular_Risk_Prediction_Capstone_Project/blob/main/Cardiovascular_Risk_Prediction_Capstone_Project.ipynb\" target=\"_parent\"><img src=\"https://colab.research.google.com/assets/colab-badge.svg\" alt=\"Open In Colab\"/></a>"
      ]
    },
    {
      "cell_type": "markdown",
      "source": [
        "# **The dataset is from an ongoing cardiovascular study on residents of the town of Framingham, Massachusetts. The classification goal is to predict whether the patient has a 10-year risk of future coronary heart disease (CHD). The dataset provides the patients’ information. It includes over 4,000 records and 15 attributes. Variables Each attribute is a potential risk factor. There are both demographic, behavioral, and medical risk factors.**"
      ],
      "metadata": {
        "id": "eX3ty9gVrXZ6"
      }
    },
    {
      "cell_type": "markdown",
      "source": [
        "\n",
        "# **Data Description**\n",
        "**Demographic:**\n",
        "• Sex: male or female(\"M\" or \"F\")\\\n",
        "• Age: Age of the patient;(Continuous - Although the recorded ages have been truncated to whole numbers, the concept of age is continuous)\n",
        "\n",
        "**Behavioral**\n",
        "\n",
        "• is_smoking: whether or not the patient is a current smoker (\"YES\" or \"NO\")\\\n",
        "• Cigs Per Day: the number of cigarettes that the person smoked on average in one day.(can be considered continuous as one can have any number of cigarettes, even half a cigarette.)\n",
        "\n",
        "**Medical( history)**\n",
        "\n",
        "• BP Meds: whether or not the patient was on blood pressure medication (Nominal)\\\n",
        "• Prevalent Stroke: whether or not the patient had previously had a stroke (Nominal)\\\n",
        "• Prevalent Hyp: whether or not the patient was hypertensive (Nominal)\\\n",
        "• Diabetes: whether or not the patient had diabetes (Nominal)\n",
        "\n",
        "**Medical(current)**\n",
        "\n",
        "• Tot Chol: total cholesterol level (Continuous)\\\n",
        "• Sys BP: systolic blood pressure (Continuous)\\\n",
        "• Dia BP: diastolic blood pressure (Continuous)\\\n",
        "• BMI: Body Mass Index (Continuous)\\\n",
        "• Heart Rate: heart rate (Continuous - In medical research, variables such as heart rate though in fact discrete, yet are considered continuous because of large number of possible values.)\\\n",
        "• Glucose: glucose level (Continuous)\n",
        "Predict variable (desired target)\\\n",
        "• 10-year risk of coronary heart disease CHD(binary: “1”, means “Yes”, “0” means “No”) -DV"
      ],
      "metadata": {
        "id": "d10AJBu0rhNy"
      }
    },
    {
      "cell_type": "markdown",
      "source": [
        "\n",
        "# **Data Preparation**\n",
        "## **Importing and Inspecting Dataset**"
      ],
      "metadata": {
        "id": "IPJEWzqlstdl"
      }
    },
    {
      "cell_type": "code",
      "source": [],
      "metadata": {
        "id": "wk7KeNMYtIB7"
      },
      "execution_count": null,
      "outputs": []
    },
    {
      "cell_type": "code",
      "source": [],
      "metadata": {
        "id": "U61B6Sdcrgp-"
      },
      "execution_count": null,
      "outputs": []
    }
  ]
}